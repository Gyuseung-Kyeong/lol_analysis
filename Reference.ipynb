{
 "cells": [
  {
   "cell_type": "code",
   "execution_count": null,
   "metadata": {},
   "outputs": [],
   "source": [
    "API_KEY = os.environ['LOL_API_KEY']\n",
    "URLS = {\n",
    "        'NAME_TO_ID' : 'https://na1.api.riotgames.com/lol/summoner/v3/summoners/by-name/{name}',\n",
    "        'ID_TO_NAME' : 'https://na1.api.riotgames.com/lol/summoner/v3/summoners/by-account/{id}',\n",
    "        'MATCHES_BY_ID' : 'https://na1.api.riotgames.com/lol/match/v3/matchlists/by-account/{id}?season=8',\n",
    "        'RECENT_MATCHES_BY_ID' : 'https://na1.api.riotgames.com/lol/match/v3/matchlists/by-account/{id}/recent',\n",
    "        'MATCH_INFO': 'https://na1.api.riotgames.com/lol/match/v3/matches/{id}', \n",
    "        'RECENT_TEN' : 'https://na.api.riotgames.com/api/lol/NA/v1.3/game/by-summoner/{summonerId}/recent',\n",
    "        }\n",
    "HEADERS = {'X-Riot-Token' : API_KEY}\n",
    "\n",
    "CHAMP_BY_ID = {}\n",
    "with open('data/champ_by_id.json') as f:\n",
    "    CHAMP_BY_ID = json.load(f)\n",
    "\n",
    "CHAMP_BY_NAME = {}\n",
    "with open('data/champ_by_name.json') as f:\n",
    "    CHAMP_BY_NAME = json.load(f)\n",
    "\n",
    "\n",
    "print(CHAMP_BY_ID['data']['236'])"
   ]
  },
  {
   "cell_type": "code",
   "execution_count": null,
   "metadata": {},
   "outputs": [],
   "source": [
    "from apiKeys import API_KEY\n",
    "import requests\n",
    "import sys\n",
    "import pprint\n",
    "\n",
    "USERNAME = sys.argv[1]\n",
    "BASE_URL = \"https://na1.api.riotgames.com/lol/\"\n",
    "SUMMONER_ID_URL = BASE_URL + \"summoner/v3/summoners/by-name/\"\n",
    "MASTERY_URL = BASE_URL + \"platform/v3/masteries/by-summoner/\"\n",
    "\n",
    "r = requests.get(SUMMONER_ID_URL + USERNAME + \"?api_key=\" + API_KEY)\n",
    "print r.status_code\n",
    "data = r.json()\n",
    "print data\n",
    "print data[\"name\"]\n",
    "print data[\"id\"]\n",
    "summoner_id = data[\"id\"]\n",
    "r = requests.get(MASTERY_URL + str(summoner_id) + \"?api_key=\" + API_KEY)\n",
    "pprint.pprint(r.json())"
   ]
  }
 ],
 "metadata": {
  "kernelspec": {
   "display_name": "Python 3",
   "language": "python",
   "name": "python3"
  },
  "language_info": {
   "codemirror_mode": {
    "name": "ipython",
    "version": 3
   },
   "file_extension": ".py",
   "mimetype": "text/x-python",
   "name": "python",
   "nbconvert_exporter": "python",
   "pygments_lexer": "ipython3",
   "version": "3.6.2"
  }
 },
 "nbformat": 4,
 "nbformat_minor": 2
}
