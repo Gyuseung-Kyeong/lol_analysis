{
 "cells": [
  {
   "cell_type": "code",
   "execution_count": null,
   "metadata": {},
   "outputs": [],
   "source": [
    "import json\n",
    "import requests\n",
    "import numpy as np\n",
    "import pandas as pd\n",
    "import time\n",
    "import datetime"
   ]
  },
  {
   "cell_type": "code",
   "execution_count": null,
   "metadata": {},
   "outputs": [],
   "source": [
    "pd.set_option('display.max_rows', 20)"
   ]
  },
  {
   "cell_type": "code",
   "execution_count": null,
   "metadata": {},
   "outputs": [],
   "source": [
    "lol_api_key = 'RGAPI-92a83a19-5e48-41e9-a9a9-5d8ab6cbdb6f'"
   ]
  },
  {
   "cell_type": "code",
   "execution_count": null,
   "metadata": {},
   "outputs": [],
   "source": [
    "URLS = {'challenge' : 'https://kr.api.riotgames.com/lol/league/v3/challengerleagues/by-queue/RANKED_SOLO_5x5?api_key=',\n",
    "        'master' : 'https://kr.api.riotgames.com/lol/league/v3/masterleagues/by-queue/RANKED_SOLO_5x5?api_key=',\n",
    "        'summoners' : 'https://kr.api.riotgames.com/lol/summoner/v3/summoners/',\n",
    "        'matches' : 'https://kr.api.riotgames.com/lol/match/v3/matchlists/by-account/',\n",
    "        'match_detail' : 'https://kr.api.riotgames.com/lol/match/v3/matches/',\n",
    "        'champions': 'https://kr.api.riotgames.com/lol/static-data/v3/champions?locale=ko_KR&dataById=false&api_key='\n",
    "       }"
   ]
  },
  {
   "cell_type": "markdown",
   "metadata": {},
   "source": [
    "# Data target\n",
    "- 특정 게임 버전에서 (7.21) challenge, master league summoner가 한명이라도 속한 경기.\n",
    "- Note: https://docs.google.com/spreadsheets/d/1kd6EdIA9FRWOoRbpY_htll4ijSPyrKc9fOhBYIEViK0/edit#gid=853537432"
   ]
  },
  {
   "cell_type": "markdown",
   "metadata": {},
   "source": [
    "# Ben & pick order check"
   ]
  },
  {
   "cell_type": "markdown",
   "metadata": {},
   "source": [
    "참고 게임: streamerName = '해물파전'  \n",
    "1.  \n",
    "accountId: 2663347  \n",
    "gameId: 2994667322  \n",
    "https://www.youtube.com/watch?v=qs43TtFqwRk&t=394s\n",
    "\n",
    "2.  \n",
    "accountId: 2663347  \n",
    "gameId: 2994630626  \n",
    "https://www.youtube.com/watch?v=y62J44JccSU&t=9s  \n",
    "\n"
   ]
  },
  {
   "cell_type": "code",
   "execution_count": null,
   "metadata": {},
   "outputs": [],
   "source": [
    "url = requests.get(URLS['champions'] + lol_api_key)\n",
    "print(url.status_code)\n",
    "champions_info = url.json()"
   ]
  },
  {
   "cell_type": "code",
   "execution_count": null,
   "metadata": {},
   "outputs": [],
   "source": [
    "df_champions = pd.DataFrame()\n",
    "for name in champions_info['data'].keys():\n",
    "    df_champions = df_champions.append([[champions_info['data'][name]['key'], champions_info['data'][name]['id']]])\n",
    "df_champions.reset_index(inplace=True)\n",
    "del df_champions['index']\n",
    "df_champions.columns = ['key','id']"
   ]
  },
  {
   "cell_type": "code",
   "execution_count": null,
   "metadata": {
    "scrolled": true
   },
   "outputs": [],
   "source": [
    "df_champions.tail()"
   ]
  },
  {
   "cell_type": "code",
   "execution_count": null,
   "metadata": {},
   "outputs": [],
   "source": [
    "df_champions.to_csv('champion_info.csv', index=False)"
   ]
  },
  {
   "cell_type": "markdown",
   "metadata": {},
   "source": [
    "# Data collection"
   ]
  },
  {
   "cell_type": "markdown",
   "metadata": {},
   "source": [
    "### Summoner target"
   ]
  },
  {
   "cell_type": "code",
   "execution_count": null,
   "metadata": {},
   "outputs": [],
   "source": [
    "# challenge league 선수들 정보 불러옴\n",
    "url = requests.get(URLS['challenge'] + lol_api_key)\n",
    "print(url.status_code)\n",
    "challenge = url.json()"
   ]
  },
  {
   "cell_type": "code",
   "execution_count": null,
   "metadata": {},
   "outputs": [],
   "source": [
    "# master league 선수들 정보 불러옴\n",
    "url = requests.get(URLS['master'] + lol_api_key)\n",
    "print(url.status_code)\n",
    "master = url.json()"
   ]
  },
  {
   "cell_type": "code",
   "execution_count": null,
   "metadata": {},
   "outputs": [],
   "source": [
    "# match를 모을 target을 challenge, master 리그 summerner들로 잡음.\n",
    "df_target_origin = pd.DataFrame(challenge['entries']).append(pd.DataFrame(master['entries']), ignore_index=True)\n",
    "# df_target_origin = pd.DataFrame(challenge['entries'], ignore_index=True)\n",
    "df_target_origin[df_target_origin.playerOrTeamName == 'Afreeca Kuro']"
   ]
  },
  {
   "cell_type": "code",
   "execution_count": null,
   "metadata": {
    "scrolled": true
   },
   "outputs": [],
   "source": [
    "# X-App-Rate-Limit에 맞춰 호출함. \n",
    "# status_code=429 는 api호출 한계 초과임\n",
    "# \"X-App-Rate-Limit\": \"100:120,20:1\",\n",
    "# \"X-Method-Rate-Limit\": \"2000:60\",\n",
    "summoners = []\n",
    "# counts = 0\n",
    "for i in df_target_origin.playerOrTeamId:\n",
    "    time.sleep(0.8)\n",
    "#     counts += 1\n",
    "#     print(counts)\n",
    "    url = requests.get(URLS['summoners'] + i + '?api_key=' + lol_api_key)\n",
    "    while url.status_code == 429:\n",
    "        time.sleep(0.8)\n",
    "        url = requests.get(URLS['summoners'] + i + '?api_key=' + lol_api_key)\n",
    "    if url.status_code != 200:\n",
    "        print(i, url.status_code)\n",
    "    else:\n",
    "        summoners.append(url.json())\n",
    "\n",
    "pd.DataFrame(summoners).to_csv('summonors.csv', index=False)"
   ]
  },
  {
   "cell_type": "code",
   "execution_count": null,
   "metadata": {},
   "outputs": [],
   "source": [
    "df_summonors = pd.read_csv('summonors.csv')[['accountId','id']]"
   ]
  },
  {
   "cell_type": "code",
   "execution_count": null,
   "metadata": {},
   "outputs": [],
   "source": [
    "# 데이터 타입이 달라서 merge시 조인이 안되는 문제 해결용.\n",
    "df_target_origin['playerOrTeamId'] = df_target_origin['playerOrTeamId'].astype(int)"
   ]
  },
  {
   "cell_type": "code",
   "execution_count": null,
   "metadata": {},
   "outputs": [],
   "source": [
    "df_target = pd.merge(df_target_origin, df_summonors, left_on='playerOrTeamId', right_on='id', how='inner')"
   ]
  },
  {
   "cell_type": "code",
   "execution_count": null,
   "metadata": {},
   "outputs": [],
   "source": [
    "df_target[df_target.playerOrTeamName=='Afreeca Kuro']"
   ]
  },
  {
   "cell_type": "code",
   "execution_count": null,
   "metadata": {},
   "outputs": [],
   "source": [
    "df_target.to_csv('target.csv', index=False)"
   ]
  },
  {
   "cell_type": "markdown",
   "metadata": {},
   "source": [
    "### Match"
   ]
  },
  {
   "cell_type": "code",
   "execution_count": null,
   "metadata": {},
   "outputs": [],
   "source": [
    "df_target = pd.read_csv('target.csv')\n",
    "df_target.tail()"
   ]
  },
  {
   "cell_type": "code",
   "execution_count": null,
   "metadata": {},
   "outputs": [],
   "source": [
    "# version별 분석을 하고 싶어서 기준일을 timestamp로 지정한다. + 9 시간을 고려한다.\n",
    "# 7.21 시작일 2017-10-25 한국시간기준\n",
    "timestamp_begin = int(datetime.datetime.timestamp(datetime.datetime(2017,10,26,0,0,0))) * 1000\n",
    "timestamp_end = int(datetime.datetime.timestamp(datetime.datetime(2017,10,31,0,0,0))) * 1000\n",
    "\n",
    "print(timestamp_begin, timestamp_end)"
   ]
  },
  {
   "cell_type": "code",
   "execution_count": null,
   "metadata": {
    "scrolled": true
   },
   "outputs": [],
   "source": [
    "# match 를 선수별로 모은다.\n",
    "# 선수당 max 100개만 모은다. 라이엇 정책이 1회 조회에 100개. / 100개 이상으로도 돌릴 수 있지만 이번엔 이정도까지만.\n",
    "# \"X-Method-Rate-Limit-Count\": \"1:10\"\n",
    "# \"X-App-Rate-Limit\": \"100:120,20:1\"\n",
    "# \"status_code\": 404, \"message\": \"Not found\" \n",
    "# - challenge, master league summoner인데 이번 버전에서 플레이 하지 않아서 찾을 수 있는 값이 없을 수 있음.\n",
    "\n",
    "matches = dict()\n",
    "accountId_exeptions = []\n",
    "# counts = 0\n",
    "for i in df_target.accountId:\n",
    "    time.sleep(0.8)\n",
    "#     counts += 1\n",
    "#     print(counts, i)\n",
    "    url = requests.get(URLS['matches'] + str(i) + '?endTime=' + str(timestamp_end) + '&beginTime=' + \\\n",
    "                       str(timestamp_begin) + '&api_key=' + lol_api_key)\n",
    "    while url.status_code == 429:\n",
    "        time.sleep(0.8)\n",
    "        url = requests.get(URLS['matches'] + str(i) + '?endTime=' + str(timestamp_end) + '&beginTime=' + \\\n",
    "                           str(timestamp_begin) + '&api_key=' + lol_api_key)\n",
    "    if url.status_code != 200:\n",
    "        print(i, url.status_code)\n",
    "        accountId_exeptions.append([i, url.status_code])\n",
    "    else:\n",
    "        matches[str(i)] = url.json()\n",
    "\n",
    "with open('matches.json', 'w') as js:\n",
    "     json.dump(matches, js)"
   ]
  },
  {
   "cell_type": "markdown",
   "metadata": {},
   "source": [
    "### gameId"
   ]
  },
  {
   "cell_type": "markdown",
   "metadata": {},
   "source": [
    "- challenge, master league summoner가 한명이라도 속한 경기를 추출한다."
   ]
  },
  {
   "cell_type": "code",
   "execution_count": null,
   "metadata": {},
   "outputs": [],
   "source": [
    "with open('matches.json', 'r') as js:\n",
    "     mataches_json = json.load(js)"
   ]
  },
  {
   "cell_type": "code",
   "execution_count": null,
   "metadata": {},
   "outputs": [],
   "source": [
    "mataches_json['7256651'].keys()"
   ]
  },
  {
   "cell_type": "code",
   "execution_count": null,
   "metadata": {},
   "outputs": [],
   "source": [
    "gameIds = []\n",
    "for accountId in mataches_json:\n",
    "    for i in range(mataches_json[accountId]['endIndex']):\n",
    "        gameIds.append(mataches_json[accountId]['matches'][i]['gameId'])\n",
    "unique_gameIds = list(set(gameIds))"
   ]
  },
  {
   "cell_type": "markdown",
   "metadata": {},
   "source": [
    "### gameId_detail"
   ]
  },
  {
   "cell_type": "code",
   "execution_count": null,
   "metadata": {
    "scrolled": true
   },
   "outputs": [],
   "source": [
    "# match 세부사항을 gameId별로 모은다.\n",
    "# \"X-App-Rate-Limit\": \"100:120,20:1\"\n",
    "# \"X-Method-Rate-Limit\": \"500:10\"\n",
    "# len(unique_gameIds) = 5984\n",
    "match_details = dict()\n",
    "gameID_exeptions = []\n",
    "# counts = 0\n",
    "for unique_gameId in unique_gameIds:\n",
    "    time.sleep(0.4)\n",
    "#     counts += 1\n",
    "#     print(counts, unique_gameId)\n",
    "    url = requests.get(URLS['match_detail'] + str(unique_gameId) + '?api_key=' + lol_api_key)\n",
    "    while url.status_code == 429:\n",
    "        time.sleep(0.8)\n",
    "        url = requests.get(URLS['match_detail'] + str(unique_gameId) + '?api_key=' + lol_api_key)\n",
    "    if url.status_code != 200:\n",
    "        print(unique_gameId, url.status_code)\n",
    "        gameID_exeptions.append([unique_gameId, url.status_code])\n",
    "    else:\n",
    "        match_details[str(unique_gameId)] = url.json()\n",
    "\n",
    "# with open('match_details.json', 'w') as js:\n",
    "#      json.dump(match_details, js)"
   ]
  },
  {
   "cell_type": "markdown",
   "metadata": {},
   "source": [
    "### 1차 돌리기"
   ]
  },
  {
   "cell_type": "code",
   "execution_count": null,
   "metadata": {},
   "outputs": [],
   "source": [
    "# count:5301 gameID: 2994336055 까지임.\n",
    "match_details1 = match_details.copy()\n",
    "len(list(match_details1.keys()))"
   ]
  },
  {
   "cell_type": "code",
   "execution_count": null,
   "metadata": {},
   "outputs": [],
   "source": [
    "with open('match_details1.json', 'w') as js:\n",
    "     json.dump(match_details1, js)"
   ]
  },
  {
   "cell_type": "markdown",
   "metadata": {},
   "source": [
    "### 2차 돌리기"
   ]
  },
  {
   "cell_type": "code",
   "execution_count": null,
   "metadata": {},
   "outputs": [],
   "source": [
    "# count:5302 gameID: 2997580094 부터임.\n",
    "match_details2 = match_details.copy()\n",
    "len(list(match_details2.keys()))"
   ]
  },
  {
   "cell_type": "code",
   "execution_count": null,
   "metadata": {},
   "outputs": [],
   "source": [
    "with open('match_details2.json', 'w') as js:\n",
    "     json.dump(match_details2, js)"
   ]
  },
  {
   "cell_type": "markdown",
   "metadata": {},
   "source": [
    "### 여러개 match_details 합치기"
   ]
  },
  {
   "cell_type": "code",
   "execution_count": null,
   "metadata": {},
   "outputs": [],
   "source": [
    "# match_details1 ,2 합치기\n",
    "match_details_total = match_details1.copy()\n",
    "match_details_total.update(match_details2)\n",
    "len(match_details_total)"
   ]
  },
  {
   "cell_type": "code",
   "execution_count": null,
   "metadata": {},
   "outputs": [],
   "source": [
    "with open('match_details_total.json', 'w') as js:\n",
    "     json.dump(match_details_total, js)"
   ]
  }
 ],
 "metadata": {
  "kernelspec": {
   "display_name": "Python 3",
   "language": "python",
   "name": "python3"
  },
  "language_info": {
   "codemirror_mode": {
    "name": "ipython",
    "version": 3
   },
   "file_extension": ".py",
   "mimetype": "text/x-python",
   "name": "python",
   "nbconvert_exporter": "python",
   "pygments_lexer": "ipython3",
   "version": "3.6.2"
  }
 },
 "nbformat": 4,
 "nbformat_minor": 2
}
