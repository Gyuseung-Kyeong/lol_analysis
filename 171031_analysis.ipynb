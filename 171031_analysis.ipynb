{
 "cells": [
  {
   "cell_type": "markdown",
   "metadata": {},
   "source": [
    "# Analysis summary & result"
   ]
  },
  {
   "cell_type": "markdown",
   "metadata": {},
   "source": [
    "- 원본 데이터 요약\n",
    "  - 특정시점(2017-10-30) challenge, master tier 계정이 7.21버전으로 플레이한 게임을 모았다. (5985 게임)\n",
    "  - 그 중에서 소환사의 협곡, 솔로랭크, Classic game mode만으로 대상을 추렸다. (3051 게임)\n",
    "  - 팀별 픽한 챔피언과 승리 여부를 모았다.\n",
    "- 분석방향\n",
    "  - Bayes’ theorem을 활용하여 주어진 상황에서 내가 어떤 챔피언을 고를 경우 승률을 예측하고 싶다.\n",
    "  - Expect win rate(= posterior probability)\n",
    "    - Champion win rate(= prior probability) * Pick champion win rate(= likelihood) / Champions win rate(= evidence)\n",
    "    - 우리팀과 상대팀이 챔피언 픽을 한 상태에서 내 픽 차례가 왔을 경우 특정 챔피언의 승률\n",
    "      - Champion win rate(= prior probability)\n",
    "        - 한 챔피언을 골랐을 때 승률\n",
    "      - Champions win rate(= evidence)\n",
    "        - 우리팀과 상대팀이 챔피언들을 골랐을 때 승률\n",
    "      - Pick champion win rate(= likelihood)\n",
    "        - 내가 고른 챔피언이 있는 경우에 한해 내가 픽하기 전에 우리팀과 다른팀 픽한 챔피언들이 있는 게임의 승률\n",
    "  - Recommend champion\n",
    "    - Expect win rate(= posterior probability)을 이용해 어떤 챔피언을 내가 픽 했을 때 가장 승률 계산\n",
    "    - 내림차순으로 상위 5개 챔피언을 보여준다.\n",
    "    - 다만 게임 플레이 수가 300회 이상인 챔피언만 보여준다.\n",
    "      - 아트록스 같은 경우 일반적으로 좋지 않은 챔피언이지만 장인들이 사용해서 게임수는 적으나 승률이 높을 수 있다.\n",
    "    - 벤이 되어 있지 않은 챔피언을 선택하고 플레이한다.\n",
    "- 결론\n",
    "  - Bayesian view 픽 추천 시스템을 만들었다.\n",
    "    - 최초에는 벤 추천 시스템까지 만들려 했었지만 프로리그에서의 벤픽과 달리 랭크 게임에서는 각 플레이어가 동시에 한 케릭터씩 밴을 하기 때문에 분석의 의미가 없다고 판단했다.\n",
    "      - 벤픽 순서가 있는 프로리그 데이터가 있다면 프로리그용 벤픽 추천 시스템을 만들 수 있다.\n",
    "  - Bayesian view는 데이터가 많이 쌓이면 쌓일 수록 강력해지기에 셈플 데이터의 숫자가 중요하다.\n",
    "    - 셈플 숫자가 부족하여 (0,1), (1,2) 상황에서의 픽 이후 단계는 잘 추천해주지 못한다.\n",
    "- 부족한점\n",
    "  - 챔피언을 고르는 행위가 어떤 챔피언이 앞에 픽이 되었는지와 상관없이 독립적인 선택이라는 강력한 가정이 들어가 있다.\n",
    "    - 하지만 현실은 우리팀이 알리스타나 말파이트를 고르면 야스오 픽이지.\n",
    "  - 본인의 포지션별로 추천해주지는 못한다. 이것 역시도 셈플이 더 많다고 하면 포지션에 따른 픽 셈플을 가지고 분석이 가능하다.\n",
    "  - 프로게이머들에게는 부적합하다. 개인화되어야 할 필요가 있다.\n",
    "  - 함수가 세부 기능 단위로 나뉘어져 있지 않아서 가독성이 떨어진다.\n",
    "  - 현재 Riot에서 제공하는 데이터로는 픽 순서를 파악할 수 없다.\n",
    "- 느낀점\n",
    "  - 난 피지컬이 부족하기에 어떻게 하면 피지컬을 제외한 부분에서 효과적인 전략을 세울 수 있는 부분이 무엇일까를 고민하다 본 분석을 시작하게 되었다.\n",
    "    - 하지만 그 챔피언의 숙련도가 떨어진다면 소용없다는 건 함정.\n",
    "  - 프로게임단 코치들은 벤픽 전략을 어떻게 세우는지 궁금하다.\n",
    "  - 2017.11.04 2017년 롤드컵 결승전이 얼마 안남았다. SKT 화이팅! 울프 선수 화이팅!"
   ]
  },
  {
   "cell_type": "code",
   "execution_count": 1,
   "metadata": {},
   "outputs": [],
   "source": [
    "import json\n",
    "import requests\n",
    "import numpy as np\n",
    "import pandas as pd\n",
    "import time\n",
    "import datetime"
   ]
  },
  {
   "cell_type": "code",
   "execution_count": 2,
   "metadata": {},
   "outputs": [],
   "source": [
    "pd.set_option('display.max_rows', 20)"
   ]
  },
  {
   "cell_type": "code",
   "execution_count": 3,
   "metadata": {},
   "outputs": [
    {
     "data": {
      "text/plain": [
       "3051"
      ]
     },
     "execution_count": 3,
     "metadata": {},
     "output_type": "execute_result"
    }
   ],
   "source": [
    "with open('analysis_dataset.json', 'r') as js:\n",
    "     games = json.load(js)\n",
    "len(games)"
   ]
  },
  {
   "cell_type": "code",
   "execution_count": 4,
   "metadata": {},
   "outputs": [
    {
     "data": {
      "text/plain": [
       "{'ban': {'100': [8, 429, 421, 497, 60], '200': [114, 7, 38, 429, 31]},\n",
       " 'pick': {'100': [18, 245, 48, 69, 150], '200': [202, 103, 113, 12, 157]},\n",
       " 'pick_role': {'100': {'BOTTOM_DUO_CARRY': 18,\n",
       "   'BOTTOM_DUO_SUPPORT': 48,\n",
       "   'JUNGLE_NONE': 245,\n",
       "   'MIDDLE_SOLO': 69,\n",
       "   'TOP_SOLO': 150},\n",
       "  '200': {'BOTTOM_DUO_CARRY': 202,\n",
       "   'BOTTOM_DUO_SUPPORT': 12,\n",
       "   'JUNGLE_NONE': 113,\n",
       "   'MIDDLE_SOLO': 103,\n",
       "   'TOP_SOLO': 157}},\n",
       " 'win': {'100': 'Fail', '200': 'Win'}}"
      ]
     },
     "execution_count": 4,
     "metadata": {},
     "output_type": "execute_result"
    }
   ],
   "source": [
    "gameId = '2994319360'\n",
    "games[gameId]"
   ]
  },
  {
   "cell_type": "code",
   "execution_count": 5,
   "metadata": {},
   "outputs": [
    {
     "data": {
      "text/html": [
       "<div>\n",
       "<style>\n",
       "    .dataframe thead tr:only-child th {\n",
       "        text-align: right;\n",
       "    }\n",
       "\n",
       "    .dataframe thead th {\n",
       "        text-align: left;\n",
       "    }\n",
       "\n",
       "    .dataframe tbody tr th {\n",
       "        vertical-align: top;\n",
       "    }\n",
       "</style>\n",
       "<table border=\"1\" class=\"dataframe\">\n",
       "  <thead>\n",
       "    <tr style=\"text-align: right;\">\n",
       "      <th></th>\n",
       "      <th>key</th>\n",
       "      <th>id</th>\n",
       "    </tr>\n",
       "  </thead>\n",
       "  <tbody>\n",
       "    <tr>\n",
       "      <th>133</th>\n",
       "      <td>Shen</td>\n",
       "      <td>98</td>\n",
       "    </tr>\n",
       "    <tr>\n",
       "      <th>134</th>\n",
       "      <td>JarvanIV</td>\n",
       "      <td>59</td>\n",
       "    </tr>\n",
       "    <tr>\n",
       "      <th>135</th>\n",
       "      <td>Malzahar</td>\n",
       "      <td>90</td>\n",
       "    </tr>\n",
       "    <tr>\n",
       "      <th>136</th>\n",
       "      <td>Zac</td>\n",
       "      <td>154</td>\n",
       "    </tr>\n",
       "    <tr>\n",
       "      <th>137</th>\n",
       "      <td>Gragas</td>\n",
       "      <td>79</td>\n",
       "    </tr>\n",
       "  </tbody>\n",
       "</table>\n",
       "</div>"
      ],
      "text/plain": [
       "          key   id\n",
       "133      Shen   98\n",
       "134  JarvanIV   59\n",
       "135  Malzahar   90\n",
       "136       Zac  154\n",
       "137    Gragas   79"
      ]
     },
     "execution_count": 5,
     "metadata": {},
     "output_type": "execute_result"
    }
   ],
   "source": [
    "df_champion = pd.read_csv('champion_info.csv')\n",
    "df_champion.column = ['champion','championId']\n",
    "df_champion.tail()"
   ]
  },
  {
   "cell_type": "code",
   "execution_count": 6,
   "metadata": {},
   "outputs": [],
   "source": [
    "champion_id_list = list(df_champion.id)\n",
    "champion_id_list.sort()"
   ]
  },
  {
   "cell_type": "markdown",
   "metadata": {},
   "source": [
    "# Champion win rate(= prior probability)"
   ]
  },
  {
   "cell_type": "code",
   "execution_count": 7,
   "metadata": {},
   "outputs": [],
   "source": [
    "def safe_divide(x, y):\n",
    "    \"\"\"\n",
    "    prevent from dividing by 0\n",
    "    :param x: numerator\n",
    "    :param y: denominator\n",
    "    :return: float\n",
    "    \"\"\"\n",
    "    try:\n",
    "        return round(x / y, 4)\n",
    "    except ZeroDivisionError:\n",
    "        return 0"
   ]
  },
  {
   "cell_type": "code",
   "execution_count": 8,
   "metadata": {},
   "outputs": [],
   "source": [
    "def champion_win_rate(champion_id):\n",
    "    \"\"\"\n",
    "    챔피언 하나의 승률.\n",
    "    :param champion_id: championId\n",
    "    :return: [승률, 챔피언이 플레이한 게임수, 챔피언이 플레이해서 이긴 게임수]\n",
    "    \"\"\"\n",
    "    game_count = 0\n",
    "    win_count = 0\n",
    "    teamIds = ['100', '200']\n",
    "    for gameId in games.keys():\n",
    "        for teamId in teamIds:\n",
    "            if champion_id in games[gameId]['pick'][teamId]:\n",
    "                game_count += 1\n",
    "                if games[gameId]['win'][teamId] == 'Win':\n",
    "                    win_count += 1\n",
    "    return [safe_divide(win_count, game_count), game_count, win_count]"
   ]
  },
  {
   "cell_type": "code",
   "execution_count": 9,
   "metadata": {
    "scrolled": true
   },
   "outputs": [
    {
     "data": {
      "text/plain": [
       "[0.5211, 1019, 531]"
      ]
     },
     "execution_count": 9,
     "metadata": {},
     "output_type": "execute_result"
    }
   ],
   "source": [
    "champion_win_rate(498)"
   ]
  },
  {
   "cell_type": "code",
   "execution_count": 10,
   "metadata": {},
   "outputs": [],
   "source": [
    "champion_win_rates = pd.DataFrame()\n",
    "# champion_win_rates = dict()\n",
    "for champion_id in champion_id_list:\n",
    "    champion_win_rates = champion_win_rates.append([[champion_id, \n",
    "                                                     champion_win_rate(champion_id)[0],\n",
    "                                                     champion_win_rate(champion_id)[1],\n",
    "                                                     champion_win_rate(champion_id)[2]]])\n",
    "champion_win_rates.columns = ['champion_id', 'champion_win_rate', 'game_count', 'champion_win_count']\n",
    "champion_win_rates.reset_index(inplace=True)\n",
    "del champion_win_rates['index']"
   ]
  },
  {
   "cell_type": "code",
   "execution_count": 11,
   "metadata": {},
   "outputs": [
    {
     "data": {
      "text/html": [
       "<div>\n",
       "<style>\n",
       "    .dataframe thead tr:only-child th {\n",
       "        text-align: right;\n",
       "    }\n",
       "\n",
       "    .dataframe thead th {\n",
       "        text-align: left;\n",
       "    }\n",
       "\n",
       "    .dataframe tbody tr th {\n",
       "        vertical-align: top;\n",
       "    }\n",
       "</style>\n",
       "<table border=\"1\" class=\"dataframe\">\n",
       "  <thead>\n",
       "    <tr style=\"text-align: right;\">\n",
       "      <th></th>\n",
       "      <th>champion_id</th>\n",
       "      <th>champion_win_rate</th>\n",
       "      <th>game_count</th>\n",
       "      <th>champion_win_count</th>\n",
       "    </tr>\n",
       "  </thead>\n",
       "  <tbody>\n",
       "    <tr>\n",
       "      <th>63</th>\n",
       "      <td>72</td>\n",
       "      <td>1.0000</td>\n",
       "      <td>1</td>\n",
       "      <td>1</td>\n",
       "    </tr>\n",
       "    <tr>\n",
       "      <th>126</th>\n",
       "      <td>266</td>\n",
       "      <td>0.6875</td>\n",
       "      <td>16</td>\n",
       "      <td>11</td>\n",
       "    </tr>\n",
       "    <tr>\n",
       "      <th>51</th>\n",
       "      <td>56</td>\n",
       "      <td>0.6667</td>\n",
       "      <td>6</td>\n",
       "      <td>4</td>\n",
       "    </tr>\n",
       "    <tr>\n",
       "      <th>29</th>\n",
       "      <td>30</td>\n",
       "      <td>0.6258</td>\n",
       "      <td>155</td>\n",
       "      <td>97</td>\n",
       "    </tr>\n",
       "    <tr>\n",
       "      <th>31</th>\n",
       "      <td>32</td>\n",
       "      <td>0.6250</td>\n",
       "      <td>8</td>\n",
       "      <td>5</td>\n",
       "    </tr>\n",
       "    <tr>\n",
       "      <th>46</th>\n",
       "      <td>50</td>\n",
       "      <td>0.5833</td>\n",
       "      <td>36</td>\n",
       "      <td>21</td>\n",
       "    </tr>\n",
       "    <tr>\n",
       "      <th>88</th>\n",
       "      <td>105</td>\n",
       "      <td>0.5746</td>\n",
       "      <td>134</td>\n",
       "      <td>77</td>\n",
       "    </tr>\n",
       "    <tr>\n",
       "      <th>10</th>\n",
       "      <td>11</td>\n",
       "      <td>0.5641</td>\n",
       "      <td>39</td>\n",
       "      <td>22</td>\n",
       "    </tr>\n",
       "    <tr>\n",
       "      <th>3</th>\n",
       "      <td>4</td>\n",
       "      <td>0.5605</td>\n",
       "      <td>430</td>\n",
       "      <td>241</td>\n",
       "    </tr>\n",
       "    <tr>\n",
       "      <th>23</th>\n",
       "      <td>24</td>\n",
       "      <td>0.5603</td>\n",
       "      <td>489</td>\n",
       "      <td>274</td>\n",
       "    </tr>\n",
       "    <tr>\n",
       "      <th>...</th>\n",
       "      <td>...</td>\n",
       "      <td>...</td>\n",
       "      <td>...</td>\n",
       "      <td>...</td>\n",
       "    </tr>\n",
       "    <tr>\n",
       "      <th>57</th>\n",
       "      <td>62</td>\n",
       "      <td>0.3333</td>\n",
       "      <td>3</td>\n",
       "      <td>1</td>\n",
       "    </tr>\n",
       "    <tr>\n",
       "      <th>35</th>\n",
       "      <td>36</td>\n",
       "      <td>0.3000</td>\n",
       "      <td>20</td>\n",
       "      <td>6</td>\n",
       "    </tr>\n",
       "    <tr>\n",
       "      <th>108</th>\n",
       "      <td>141</td>\n",
       "      <td>0.2955</td>\n",
       "      <td>44</td>\n",
       "      <td>13</td>\n",
       "    </tr>\n",
       "    <tr>\n",
       "      <th>19</th>\n",
       "      <td>20</td>\n",
       "      <td>0.2727</td>\n",
       "      <td>22</td>\n",
       "      <td>6</td>\n",
       "    </tr>\n",
       "    <tr>\n",
       "      <th>105</th>\n",
       "      <td>133</td>\n",
       "      <td>0.2500</td>\n",
       "      <td>4</td>\n",
       "      <td>1</td>\n",
       "    </tr>\n",
       "    <tr>\n",
       "      <th>118</th>\n",
       "      <td>203</td>\n",
       "      <td>0.2000</td>\n",
       "      <td>5</td>\n",
       "      <td>1</td>\n",
       "    </tr>\n",
       "    <tr>\n",
       "      <th>101</th>\n",
       "      <td>122</td>\n",
       "      <td>0.2000</td>\n",
       "      <td>10</td>\n",
       "      <td>2</td>\n",
       "    </tr>\n",
       "    <tr>\n",
       "      <th>76</th>\n",
       "      <td>86</td>\n",
       "      <td>0.2000</td>\n",
       "      <td>15</td>\n",
       "      <td>3</td>\n",
       "    </tr>\n",
       "    <tr>\n",
       "      <th>83</th>\n",
       "      <td>99</td>\n",
       "      <td>0.1538</td>\n",
       "      <td>13</td>\n",
       "      <td>2</td>\n",
       "    </tr>\n",
       "    <tr>\n",
       "      <th>89</th>\n",
       "      <td>106</td>\n",
       "      <td>0.0000</td>\n",
       "      <td>1</td>\n",
       "      <td>0</td>\n",
       "    </tr>\n",
       "  </tbody>\n",
       "</table>\n",
       "<p>138 rows × 4 columns</p>\n",
       "</div>"
      ],
      "text/plain": [
       "     champion_id  champion_win_rate  game_count  champion_win_count\n",
       "63            72             1.0000           1                   1\n",
       "126          266             0.6875          16                  11\n",
       "51            56             0.6667           6                   4\n",
       "29            30             0.6258         155                  97\n",
       "31            32             0.6250           8                   5\n",
       "46            50             0.5833          36                  21\n",
       "88           105             0.5746         134                  77\n",
       "10            11             0.5641          39                  22\n",
       "3              4             0.5605         430                 241\n",
       "23            24             0.5603         489                 274\n",
       "..           ...                ...         ...                 ...\n",
       "57            62             0.3333           3                   1\n",
       "35            36             0.3000          20                   6\n",
       "108          141             0.2955          44                  13\n",
       "19            20             0.2727          22                   6\n",
       "105          133             0.2500           4                   1\n",
       "118          203             0.2000           5                   1\n",
       "101          122             0.2000          10                   2\n",
       "76            86             0.2000          15                   3\n",
       "83            99             0.1538          13                   2\n",
       "89           106             0.0000           1                   0\n",
       "\n",
       "[138 rows x 4 columns]"
      ]
     },
     "execution_count": 11,
     "metadata": {},
     "output_type": "execute_result"
    }
   ],
   "source": [
    "champion_win_rates.sort_values('champion_win_rate', ascending=False)"
   ]
  },
  {
   "cell_type": "markdown",
   "metadata": {},
   "source": [
    "# Champions win rate(= evidence)"
   ]
  },
  {
   "cell_type": "code",
   "execution_count": 12,
   "metadata": {},
   "outputs": [],
   "source": [
    "def champions_win_rate(my_team_champions, opponent_team_champions):\n",
    "    \"\"\"\n",
    "    우리 팀과 적 팀이 고른 챔피언이 속한 게임의 승률.\n",
    "    항상 우리 팀이 고른 챔피언 숫자가 적을 경우 픽하는 상황으로 한정한다.\n",
    "    실 게임에서는 동시에 2명이 픽 하는 경우, 다른 summoner가 먼저 픽 할 경우 고른 챔피언 숫자가 우리팀과 적팀이 같으나 여기선 무시한다.\n",
    "    :param my_team_champions: 우리 팀의 championId list\n",
    "    :param opponent_team_champions: 적 팀의 championId list\n",
    "    :return: [승률, 플레이한 게임수, 플레이해서 이긴 게임수]\n",
    "    \"\"\"\n",
    "    if (len(my_team_champions), len(opponent_team_champions)) in [(0,1),(1,2),(2,3),(3,4),(4,5)]:\n",
    "        if (len(my_team_champions), len(opponent_team_champions)) in [(0,1)]:\n",
    "            return champion_win_rate(opponent_team_champions[0])\n",
    "        else:\n",
    "            game_count = 0\n",
    "            win_count = 0\n",
    "            teamIds = ['100', '200']\n",
    "            for gameId in games.keys():\n",
    "                for teamId in teamIds:\n",
    "                    # 우리 팀이 뽑은 챔피언이 games안에 모두 있는지 확인한다.\n",
    "                    if len(set(games[gameId]['pick'][teamId]) - set(my_team_champions)) == (5 - len(my_team_champions)):\n",
    "                        # 적 팀이 뽑은 챔피언이 반대 팀에 있는지 확인한다.\n",
    "                        if len(set(games[gameId]['pick'][list(set(teamIds) - set([teamId]))[0]]) - \n",
    "                               set(opponent_team_champions)) == (5 - len(opponent_team_champions)):\n",
    "                            # 우리 팀과 적 팀이 뽑은 챔피언이 모두 있는 경우는 경기수 증가\n",
    "                            game_count += 1\n",
    "                            if games[gameId]['win'][teamId] == 'Win':\n",
    "                                # 우리 팀이 이긴 경우 승수 추가\n",
    "                                win_count += 1\n",
    "            return [safe_divide(win_count, game_count), game_count, win_count]\n",
    "    else:\n",
    "        return print('''Input correct value. Only (len(my_team_champions), len(opponent_team_champions)) \n",
    "in [(0,1), (1,2), (2,3), (3,4), (4,5)] is allowed.''')"
   ]
  },
  {
   "cell_type": "code",
   "execution_count": 13,
   "metadata": {},
   "outputs": [
    {
     "data": {
      "text/plain": [
       "[0.4864, 1398, 680]"
      ]
     },
     "execution_count": 13,
     "metadata": {},
     "output_type": "execute_result"
    }
   ],
   "source": [
    "champions_win_rate([], [59])"
   ]
  },
  {
   "cell_type": "code",
   "execution_count": 14,
   "metadata": {},
   "outputs": [
    {
     "data": {
      "text/plain": [
       "[0.9231, 13, 12]"
      ]
     },
     "execution_count": 14,
     "metadata": {},
     "output_type": "execute_result"
    }
   ],
   "source": [
    "champions_win_rate([24], [59, 110])"
   ]
  },
  {
   "cell_type": "code",
   "execution_count": 15,
   "metadata": {},
   "outputs": [
    {
     "name": "stdout",
     "output_type": "stream",
     "text": [
      "Input correct value. Only (len(my_team_champions), len(opponent_team_champions)) \n",
      "in [(0,1), (1,2), (2,3), (3,4), (4,5)] is allowed.\n"
     ]
    }
   ],
   "source": [
    "champions_win_rate([24, 56], [59, 110])"
   ]
  },
  {
   "cell_type": "markdown",
   "metadata": {},
   "source": [
    "# Pick champion win rate(= likelihood)"
   ]
  },
  {
   "cell_type": "code",
   "execution_count": 16,
   "metadata": {},
   "outputs": [],
   "source": [
    "def pick_champion_win_rate(my_champion ,my_team_champions, opponent_team_champions):\n",
    "    \"\"\"\n",
    "    내가 고른 챔피언이 있는 게임들 중에서 우리 팀과 적 팀이 고른 챔피언이 속한 게임의 승률.\n",
    "    항상 우리 팀이 고른 챔피언 숫자가 적을 경우 픽하는 상황으로 한정한다.\n",
    "    실 게임에서는 동시에 2명이 픽 하는 경우, 다른 summoner가 먼저 픽 할 경우 고른 챔피언 숫자가 우리팀과 적팀이 같으나 여기선 무시한다.\n",
    "    :param my_champion: 내가 고른 championId int\n",
    "    :param my_team_champions: 우리 팀의 championId list\n",
    "    :param opponent_team_champions: 적 팀의 championId list\n",
    "    :return: [승률, 플레이한 게임수, 플레이해서 이긴 게임수]\n",
    "    \"\"\"\n",
    "    # 같은팀 두명이 동시에 고르는 경우 내가 픽 했더라도 팀원은 아직 고르지 않았다는 가정을 한다.\n",
    "    if my_champion in my_team_champions:\n",
    "        print('Pick another champion. The champion is already picked by teammate.')\n",
    "        return [0, 0, 0]\n",
    "    else:\n",
    "        if my_champion in opponent_team_champions:\n",
    "            print('Pick another champion. The champion is already picked by opponent.')\n",
    "            return [0, 0, 0]\n",
    "        else:\n",
    "            if (len(my_team_champions) + 1, len(opponent_team_champions)) in [(1,1),(2,2),(3,3),(4,4),(5,5)]:\n",
    "                new_my_team_champions = my_team_champions + [my_champion]\n",
    "                game_count = 0\n",
    "                win_count = 0\n",
    "                teamIds = ['100', '200']\n",
    "                for gameId in games.keys():\n",
    "                    for teamId in teamIds:\n",
    "                        # 내가 새로 뽑을 챔피언과 우리 팀이 뽑은 챔피언이 games안에 모두 있는지 확인한다.\n",
    "                        if len(set(games[gameId]['pick'][teamId]) - set(new_my_team_champions)) == \\\n",
    "                            (5 - len(new_my_team_champions)):\n",
    "                            # 적 팀이 뽑은 챔피언이 반대 팀에 있는지 확인한다.\n",
    "                            if len(set(games[gameId]['pick'][list(set(teamIds) - set([teamId]))[0]]) - \n",
    "                                   set(opponent_team_champions)) == (5 - len(opponent_team_champions)):\n",
    "                                # 우리 팀과 적 팀이 뽑은 챔피언이 모두 있는 경우는 경기수 증가\n",
    "                                game_count += 1\n",
    "                                if games[gameId]['win'][teamId] == 'Win':\n",
    "                                    # 우리 팀이 이긴 경우 승수 추가\n",
    "                                    win_count += 1\n",
    "                return [safe_divide(win_count, game_count), game_count, win_count]\n",
    "            else:\n",
    "                return print('''Input correct value. Only (len(my_team_champions), len(opponent_team_champions)) \n",
    "in [(0,1), (1,2), (2,3), (3,4), (4,5)] is allowed.''')"
   ]
  },
  {
   "cell_type": "code",
   "execution_count": 17,
   "metadata": {},
   "outputs": [
    {
     "data": {
      "text/plain": [
       "[0.5161, 248, 128]"
      ]
     },
     "execution_count": 17,
     "metadata": {},
     "output_type": "execute_result"
    }
   ],
   "source": [
    "pick_champion_win_rate(498, [], [59])"
   ]
  },
  {
   "cell_type": "code",
   "execution_count": 18,
   "metadata": {},
   "outputs": [
    {
     "data": {
      "text/plain": [
       "[0, 0, 0]"
      ]
     },
     "execution_count": 18,
     "metadata": {},
     "output_type": "execute_result"
    }
   ],
   "source": [
    "pick_champion_win_rate(498, [240], [59,110])"
   ]
  },
  {
   "cell_type": "code",
   "execution_count": 19,
   "metadata": {},
   "outputs": [
    {
     "data": {
      "text/plain": [
       "[1.0, 1, 1]"
      ]
     },
     "execution_count": 19,
     "metadata": {},
     "output_type": "execute_result"
    }
   ],
   "source": [
    "pick_champion_win_rate(96, [113, 90, 63], [59, 110, 80, 134])"
   ]
  },
  {
   "cell_type": "code",
   "execution_count": 20,
   "metadata": {},
   "outputs": [
    {
     "name": "stdout",
     "output_type": "stream",
     "text": [
      "Pick another champion. The champion is already picked by teammate.\n"
     ]
    },
    {
     "data": {
      "text/plain": [
       "[0, 0, 0]"
      ]
     },
     "execution_count": 20,
     "metadata": {},
     "output_type": "execute_result"
    }
   ],
   "source": [
    "pick_champion_win_rate(90, [113, 90, 63], [59, 110, 80, 134])"
   ]
  },
  {
   "cell_type": "code",
   "execution_count": 21,
   "metadata": {},
   "outputs": [
    {
     "name": "stdout",
     "output_type": "stream",
     "text": [
      "Pick another champion. The champion is already picked by opponent.\n"
     ]
    },
    {
     "data": {
      "text/plain": [
       "[0, 0, 0]"
      ]
     },
     "execution_count": 21,
     "metadata": {},
     "output_type": "execute_result"
    }
   ],
   "source": [
    "pick_champion_win_rate(59, [113, 90, 63], [59, 110, 80, 134])"
   ]
  },
  {
   "cell_type": "code",
   "execution_count": 22,
   "metadata": {},
   "outputs": [
    {
     "name": "stdout",
     "output_type": "stream",
     "text": [
      "Input correct value. Only (len(my_team_champions), len(opponent_team_champions)) \n",
      "in [(0,1), (1,2), (2,3), (3,4), (4,5)] is allowed.\n"
     ]
    }
   ],
   "source": [
    "pick_champion_win_rate(59, [113, 90, 63, 100], [110, 80, 134])"
   ]
  },
  {
   "cell_type": "markdown",
   "metadata": {},
   "source": [
    "# Expect win rate(= posterior probability)"
   ]
  },
  {
   "cell_type": "code",
   "execution_count": 23,
   "metadata": {},
   "outputs": [],
   "source": [
    "def expect_win_rate(my_champion, my_team_champions, opponent_team_champions):\n",
    "    \"\"\"\n",
    "    내가 특정 챔피언을 고를 경우 우리 팀과 적 팀이 선택한 챔피언들을 바탕으로 예상되는 승률.\n",
    "    :param my_champion: 내가 고른 championId int\n",
    "    :param my_team_champions: 우리 팀의 championId list\n",
    "    :param opponent_team_champions: 적 팀의 championId list\n",
    "    :return: 예상 승률\n",
    "    \"\"\"\n",
    "    upper = (pick_champion_win_rate(my_champion, my_team_champions, opponent_team_champions)[0] * \n",
    "             champion_win_rate(my_champion)[0])\n",
    "    lower = champions_win_rate(my_team_champions, opponent_team_champions)[0]\n",
    "    if np.logical_or(lower==0, pick_champion_win_rate(my_champion, my_team_champions, opponent_team_champions)[1]==0):\n",
    "        return print('Can not calculate. Lack of samples')\n",
    "    else:\n",
    "        return safe_divide(upper, lower)"
   ]
  },
  {
   "cell_type": "code",
   "execution_count": 24,
   "metadata": {},
   "outputs": [
    {
     "name": "stdout",
     "output_type": "stream",
     "text": [
      "prior probability: [0.4864, 1398, 680]\n",
      "likelihood: [0.7778, 9, 7]\n",
      "evidence: [0.5556, 36, 20]\n",
      "posterior probability: 0.6809\n"
     ]
    }
   ],
   "source": [
    "my_champion = 59\n",
    "my_team_champions = [18]\n",
    "opponent_team_champions = [498, 81]\n",
    "print('prior probability:',champion_win_rate(my_champion))\n",
    "print('likelihood:', pick_champion_win_rate(my_champion, my_team_champions, opponent_team_champions))\n",
    "print('evidence:', champions_win_rate(my_team_champions, opponent_team_champions))\n",
    "print('posterior probability:', expect_win_rate(my_champion, my_team_champions, opponent_team_champions))"
   ]
  },
  {
   "cell_type": "markdown",
   "metadata": {},
   "source": [
    "# Recommend champion"
   ]
  },
  {
   "cell_type": "code",
   "execution_count": 25,
   "metadata": {},
   "outputs": [
    {
     "data": {
      "text/html": [
       "<div>\n",
       "<style>\n",
       "    .dataframe thead tr:only-child th {\n",
       "        text-align: right;\n",
       "    }\n",
       "\n",
       "    .dataframe thead th {\n",
       "        text-align: left;\n",
       "    }\n",
       "\n",
       "    .dataframe tbody tr th {\n",
       "        vertical-align: top;\n",
       "    }\n",
       "</style>\n",
       "<table border=\"1\" class=\"dataframe\">\n",
       "  <thead>\n",
       "    <tr style=\"text-align: right;\">\n",
       "      <th></th>\n",
       "      <th>key</th>\n",
       "      <th>id</th>\n",
       "    </tr>\n",
       "  </thead>\n",
       "  <tbody>\n",
       "    <tr>\n",
       "      <th>133</th>\n",
       "      <td>Shen</td>\n",
       "      <td>98</td>\n",
       "    </tr>\n",
       "    <tr>\n",
       "      <th>134</th>\n",
       "      <td>JarvanIV</td>\n",
       "      <td>59</td>\n",
       "    </tr>\n",
       "    <tr>\n",
       "      <th>135</th>\n",
       "      <td>Malzahar</td>\n",
       "      <td>90</td>\n",
       "    </tr>\n",
       "    <tr>\n",
       "      <th>136</th>\n",
       "      <td>Zac</td>\n",
       "      <td>154</td>\n",
       "    </tr>\n",
       "    <tr>\n",
       "      <th>137</th>\n",
       "      <td>Gragas</td>\n",
       "      <td>79</td>\n",
       "    </tr>\n",
       "  </tbody>\n",
       "</table>\n",
       "</div>"
      ],
      "text/plain": [
       "          key   id\n",
       "133      Shen   98\n",
       "134  JarvanIV   59\n",
       "135  Malzahar   90\n",
       "136       Zac  154\n",
       "137    Gragas   79"
      ]
     },
     "execution_count": 25,
     "metadata": {},
     "output_type": "execute_result"
    }
   ],
   "source": [
    "df_champions = pd.read_csv('champion_info.csv')\n",
    "df_champions.tail()"
   ]
  },
  {
   "cell_type": "code",
   "execution_count": 26,
   "metadata": {},
   "outputs": [],
   "source": [
    "def championName_to_championId(championName):\n",
    "    \"\"\"\n",
    "    챔피언 이름을 영문으로 넣으면 championId가 나온다.\n",
    "    :param championName: 챔피언 이름 string\n",
    "    :return: championId int\n",
    "    \"\"\"\n",
    "    return df_champions.set_index('key').to_dict()['id'][championName]"
   ]
  },
  {
   "cell_type": "code",
   "execution_count": 27,
   "metadata": {},
   "outputs": [
    {
     "data": {
      "text/plain": [
       "103"
      ]
     },
     "execution_count": 27,
     "metadata": {},
     "output_type": "execute_result"
    }
   ],
   "source": [
    "championName_to_championId('Ahri')"
   ]
  },
  {
   "cell_type": "code",
   "execution_count": 28,
   "metadata": {},
   "outputs": [],
   "source": [
    "def championNamelist_to_championIdlist(championNamelist):\n",
    "    \"\"\"\n",
    "    영문으로 된 챔피언 이름 리스트를 넣으면 championId의 리스트가 나온다.\n",
    "    :param championNamelist: 챔피언 이름 list\n",
    "    :return: championId list\n",
    "    \"\"\"\n",
    "    return list(pd.Series(championNamelist).apply(lambda x: championName_to_championId(x)))"
   ]
  },
  {
   "cell_type": "code",
   "execution_count": 29,
   "metadata": {},
   "outputs": [
    {
     "data": {
      "text/plain": [
       "[103, 34]"
      ]
     },
     "execution_count": 29,
     "metadata": {},
     "output_type": "execute_result"
    }
   ],
   "source": [
    "championNamelist_to_championIdlist(['Ahri', 'Anivia'])"
   ]
  },
  {
   "cell_type": "code",
   "execution_count": 30,
   "metadata": {},
   "outputs": [],
   "source": [
    "def recommend_championId(my_team_champions, opponent_team_champions):\n",
    "    \"\"\"\n",
    "    내가 픽 할 상황에서 우리편과 상대편의 픽 된 챔피언 리스트를 넣으면 승률이 가장 높을 것으로 예상되는 상위 5개 챔피언을 보여준다.\n",
    "    :param my_team_champions: 우리 팀의 championId list\n",
    "    :param opponent_team_champions: 적 팀의 championId list\n",
    "    :return: DataFrame\n",
    "    \"\"\"\n",
    "    df = pd.DataFrame()\n",
    "    for champion_Id in champion_win_rates[champion_win_rates.game_count >= 300].champion_id:\n",
    "        df = df.append([[champion_Id, expect_win_rate(champion_Id, my_team_champions, opponent_team_champions)]])\n",
    "    df.columns = ['id', 'win_rate']\n",
    "    df.reset_index(inplace=True)\n",
    "    del df['index']\n",
    "    df.sort_values('win_rate', ascending=False, inplace=True)\n",
    "    df_champions = pd.read_csv('champion_info.csv')\n",
    "    return pd.merge(df, df_champions, on ='id', how='inner').head()"
   ]
  },
  {
   "cell_type": "code",
   "execution_count": 31,
   "metadata": {},
   "outputs": [
    {
     "name": "stdout",
     "output_type": "stream",
     "text": [
      "Can not calculate. Lack of samples\n",
      "Can not calculate. Lack of samples\n",
      "Can not calculate. Lack of samples\n",
      "Can not calculate. Lack of samples\n",
      "Can not calculate. Lack of samples\n",
      "Can not calculate. Lack of samples\n",
      "Can not calculate. Lack of samples\n",
      "Can not calculate. Lack of samples\n",
      "Pick another champion. The champion is already picked by opponent.\n",
      "Pick another champion. The champion is already picked by opponent.\n",
      "Can not calculate. Lack of samples\n",
      "Can not calculate. Lack of samples\n",
      "Can not calculate. Lack of samples\n",
      "Can not calculate. Lack of samples\n",
      "Can not calculate. Lack of samples\n",
      "Pick another champion. The champion is already picked by opponent.\n",
      "Pick another champion. The champion is already picked by opponent.\n",
      "Can not calculate. Lack of samples\n",
      "Can not calculate. Lack of samples\n",
      "Pick another champion. The champion is already picked by teammate.\n",
      "Pick another champion. The champion is already picked by teammate.\n",
      "Can not calculate. Lack of samples\n",
      "Can not calculate. Lack of samples\n",
      "Can not calculate. Lack of samples\n",
      "Can not calculate. Lack of samples\n",
      "Can not calculate. Lack of samples\n",
      "Can not calculate. Lack of samples\n",
      "Can not calculate. Lack of samples\n",
      "Can not calculate. Lack of samples\n",
      "Can not calculate. Lack of samples\n"
     ]
    },
    {
     "data": {
      "text/html": [
       "<div>\n",
       "<style>\n",
       "    .dataframe thead tr:only-child th {\n",
       "        text-align: right;\n",
       "    }\n",
       "\n",
       "    .dataframe thead th {\n",
       "        text-align: left;\n",
       "    }\n",
       "\n",
       "    .dataframe tbody tr th {\n",
       "        vertical-align: top;\n",
       "    }\n",
       "</style>\n",
       "<table border=\"1\" class=\"dataframe\">\n",
       "  <thead>\n",
       "    <tr style=\"text-align: right;\">\n",
       "      <th></th>\n",
       "      <th>id</th>\n",
       "      <th>win_rate</th>\n",
       "      <th>key</th>\n",
       "    </tr>\n",
       "  </thead>\n",
       "  <tbody>\n",
       "    <tr>\n",
       "      <th>0</th>\n",
       "      <td>12</td>\n",
       "      <td>0.8882</td>\n",
       "      <td>Alistar</td>\n",
       "    </tr>\n",
       "    <tr>\n",
       "      <th>1</th>\n",
       "      <td>134</td>\n",
       "      <td>0.8734</td>\n",
       "      <td>Syndra</td>\n",
       "    </tr>\n",
       "    <tr>\n",
       "      <th>2</th>\n",
       "      <td>202</td>\n",
       "      <td>0.8160</td>\n",
       "      <td>Jhin</td>\n",
       "    </tr>\n",
       "    <tr>\n",
       "      <th>3</th>\n",
       "      <td>268</td>\n",
       "      <td>0.7867</td>\n",
       "      <td>Azir</td>\n",
       "    </tr>\n",
       "    <tr>\n",
       "      <th>4</th>\n",
       "      <td>89</td>\n",
       "      <td>0.7723</td>\n",
       "      <td>Leona</td>\n",
       "    </tr>\n",
       "  </tbody>\n",
       "</table>\n",
       "</div>"
      ],
      "text/plain": [
       "    id  win_rate      key\n",
       "0   12    0.8882  Alistar\n",
       "1  134    0.8734   Syndra\n",
       "2  202    0.8160     Jhin\n",
       "3  268    0.7867     Azir\n",
       "4   89    0.7723    Leona"
      ]
     },
     "execution_count": 31,
     "metadata": {},
     "output_type": "execute_result"
    }
   ],
   "source": [
    "recommend_championId([113], [59, 81])"
   ]
  },
  {
   "cell_type": "code",
   "execution_count": 32,
   "metadata": {},
   "outputs": [],
   "source": [
    "def recommend_championName(my_team_champions, opponent_team_champions):\n",
    "    '''\n",
    "    내가 픽 할 상황에서 우리편과 상대편의 픽 된 챔피언 리스트를 넣으면 승률이 가장 높을 것으로 예상되는 상위 5개 챔피언을 보여준다.\n",
    "    :param my_team_champions: 우리 팀의 championName list\n",
    "    :param opponent_team_champions: 적 팀의 championName list\n",
    "    :return: DataFrame\n",
    "    '''\n",
    "    my_team_champions = championNamelist_to_championIdlist(my_team_champions)\n",
    "    opponent_team_champions = championNamelist_to_championIdlist(opponent_team_champions)\n",
    "    df = pd.DataFrame()\n",
    "    for champion_Id in champion_win_rates[champion_win_rates.game_count >= 300].champion_id:\n",
    "        df = df.append([[champion_Id, expect_win_rate(champion_Id, my_team_champions, opponent_team_champions)]])\n",
    "    df.columns = ['id', 'win_rate']\n",
    "    df.reset_index(inplace=True)\n",
    "    del df['index']\n",
    "    df.sort_values('win_rate', ascending=False, inplace=True)\n",
    "    df_champions = pd.read_csv('champion_info.csv')\n",
    "    return pd.merge(df, df_champions, on ='id', how='inner').head()"
   ]
  },
  {
   "cell_type": "code",
   "execution_count": 33,
   "metadata": {},
   "outputs": [
    {
     "name": "stdout",
     "output_type": "stream",
     "text": [
      "Can not calculate. Lack of samples\n",
      "Pick another champion. The champion is already picked by teammate.\n",
      "Pick another champion. The champion is already picked by teammate.\n",
      "Can not calculate. Lack of samples\n",
      "Can not calculate. Lack of samples\n",
      "Can not calculate. Lack of samples\n",
      "Can not calculate. Lack of samples\n",
      "Can not calculate. Lack of samples\n",
      "Can not calculate. Lack of samples\n",
      "Can not calculate. Lack of samples\n",
      "Can not calculate. Lack of samples\n",
      "Can not calculate. Lack of samples\n",
      "Can not calculate. Lack of samples\n",
      "Can not calculate. Lack of samples\n",
      "Pick another champion. The champion is already picked by opponent.\n",
      "Pick another champion. The champion is already picked by opponent.\n",
      "Can not calculate. Lack of samples\n",
      "Can not calculate. Lack of samples\n",
      "Can not calculate. Lack of samples\n",
      "Can not calculate. Lack of samples\n",
      "Can not calculate. Lack of samples\n",
      "Can not calculate. Lack of samples\n",
      "Can not calculate. Lack of samples\n",
      "Can not calculate. Lack of samples\n",
      "Pick another champion. The champion is already picked by opponent.\n",
      "Pick another champion. The champion is already picked by opponent.\n",
      "Can not calculate. Lack of samples\n",
      "Can not calculate. Lack of samples\n",
      "Can not calculate. Lack of samples\n",
      "Can not calculate. Lack of samples\n",
      "Can not calculate. Lack of samples\n",
      "Can not calculate. Lack of samples\n",
      "Can not calculate. Lack of samples\n",
      "Can not calculate. Lack of samples\n"
     ]
    },
    {
     "data": {
      "text/html": [
       "<div>\n",
       "<style>\n",
       "    .dataframe thead tr:only-child th {\n",
       "        text-align: right;\n",
       "    }\n",
       "\n",
       "    .dataframe thead th {\n",
       "        text-align: left;\n",
       "    }\n",
       "\n",
       "    .dataframe tbody tr th {\n",
       "        vertical-align: top;\n",
       "    }\n",
       "</style>\n",
       "<table border=\"1\" class=\"dataframe\">\n",
       "  <thead>\n",
       "    <tr style=\"text-align: right;\">\n",
       "      <th></th>\n",
       "      <th>id</th>\n",
       "      <th>win_rate</th>\n",
       "      <th>key</th>\n",
       "    </tr>\n",
       "  </thead>\n",
       "  <tbody>\n",
       "    <tr>\n",
       "      <th>0</th>\n",
       "      <td>24</td>\n",
       "      <td>0.7004</td>\n",
       "      <td>Jax</td>\n",
       "    </tr>\n",
       "    <tr>\n",
       "      <th>1</th>\n",
       "      <td>76</td>\n",
       "      <td>0.6811</td>\n",
       "      <td>Nidalee</td>\n",
       "    </tr>\n",
       "    <tr>\n",
       "      <th>2</th>\n",
       "      <td>8</td>\n",
       "      <td>0.6659</td>\n",
       "      <td>Vladimir</td>\n",
       "    </tr>\n",
       "    <tr>\n",
       "      <th>3</th>\n",
       "      <td>81</td>\n",
       "      <td>0.6550</td>\n",
       "      <td>Ezreal</td>\n",
       "    </tr>\n",
       "    <tr>\n",
       "      <th>4</th>\n",
       "      <td>29</td>\n",
       "      <td>0.6354</td>\n",
       "      <td>Twitch</td>\n",
       "    </tr>\n",
       "  </tbody>\n",
       "</table>\n",
       "</div>"
      ],
      "text/plain": [
       "   id  win_rate       key\n",
       "0  24    0.7004       Jax\n",
       "1  76    0.6811   Nidalee\n",
       "2   8    0.6659  Vladimir\n",
       "3  81    0.6550    Ezreal\n",
       "4  29    0.6354    Twitch"
      ]
     },
     "execution_count": 33,
     "metadata": {},
     "output_type": "execute_result"
    }
   ],
   "source": [
    "recommend_championName(['Alistar'], ['Jhin', 'Leona'])"
   ]
  }
 ],
 "metadata": {
  "kernelspec": {
   "display_name": "Python 3",
   "language": "python",
   "name": "python3"
  },
  "language_info": {
   "codemirror_mode": {
    "name": "ipython",
    "version": 3
   },
   "file_extension": ".py",
   "mimetype": "text/x-python",
   "name": "python",
   "nbconvert_exporter": "python",
   "pygments_lexer": "ipython3",
   "version": "3.6.2"
  }
 },
 "nbformat": 4,
 "nbformat_minor": 2
}
