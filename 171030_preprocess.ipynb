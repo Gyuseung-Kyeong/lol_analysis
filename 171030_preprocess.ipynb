{
 "cells": [
  {
   "cell_type": "code",
   "execution_count": 1,
   "metadata": {},
   "outputs": [],
   "source": [
    "import json\n",
    "import requests\n",
    "import numpy as np\n",
    "import pandas as pd\n",
    "import time\n",
    "import datetime"
   ]
  },
  {
   "cell_type": "code",
   "execution_count": 2,
   "metadata": {},
   "outputs": [],
   "source": [
    "pd.set_option('display.max_rows', 20)"
   ]
  },
  {
   "cell_type": "markdown",
   "metadata": {},
   "source": [
    "# Choose features"
   ]
  },
  {
   "cell_type": "code",
   "execution_count": 3,
   "metadata": {},
   "outputs": [],
   "source": [
    "with open('match_details_total.json', 'r') as js:\n",
    "     games = json.load(js)"
   ]
  },
  {
   "cell_type": "markdown",
   "metadata": {},
   "source": [
    "### gameId"
   ]
  },
  {
   "cell_type": "code",
   "execution_count": 4,
   "metadata": {},
   "outputs": [
    {
     "data": {
      "text/plain": [
       "5985"
      ]
     },
     "execution_count": 4,
     "metadata": {},
     "output_type": "execute_result"
    }
   ],
   "source": [
    "len(games.keys())"
   ]
  },
  {
   "cell_type": "code",
   "execution_count": 5,
   "metadata": {},
   "outputs": [
    {
     "data": {
      "text/plain": [
       "2994319360"
      ]
     },
     "execution_count": 5,
     "metadata": {},
     "output_type": "execute_result"
    }
   ],
   "source": [
    "gameId = '2994319360'\n",
    "games[gameId]['gameId']"
   ]
  },
  {
   "cell_type": "markdown",
   "metadata": {},
   "source": [
    "### teams"
   ]
  },
  {
   "cell_type": "markdown",
   "metadata": {},
   "source": [
    "#### win"
   ]
  },
  {
   "cell_type": "code",
   "execution_count": 6,
   "metadata": {},
   "outputs": [
    {
     "data": {
      "text/plain": [
       "{100: 'Fail', 200: 'Win'}"
      ]
     },
     "execution_count": 6,
     "metadata": {},
     "output_type": "execute_result"
    }
   ],
   "source": [
    "wins = dict()\n",
    "for j in range(2):\n",
    "    wins[games[gameId]['teams'][j]['teamId']] = games[gameId]['teams'][j]['win']\n",
    "wins"
   ]
  },
  {
   "cell_type": "markdown",
   "metadata": {},
   "source": [
    "#### ban"
   ]
  },
  {
   "cell_type": "code",
   "execution_count": 7,
   "metadata": {},
   "outputs": [
    {
     "data": {
      "text/plain": [
       "{100: [8, 429, 421, 497, 60], 200: [114, 7, 38, 429, 31]}"
      ]
     },
     "execution_count": 7,
     "metadata": {},
     "output_type": "execute_result"
    }
   ],
   "source": [
    "bans = dict()\n",
    "for j in range(2):\n",
    "    ban_champion_list =[]\n",
    "    for i in range(5):\n",
    "        # 벤을 하나도 안한 경기도 있을 수 있다.\n",
    "        try:\n",
    "            ban_champion_list.append(\n",
    "                games[gameId]['teams'][j]['bans'][i]['championId'])\n",
    "        except:\n",
    "            continue\n",
    "    bans[games[gameId]['teams'][j]['teamId']] = ban_champion_list\n",
    "bans"
   ]
  },
  {
   "cell_type": "markdown",
   "metadata": {},
   "source": [
    "### participants"
   ]
  },
  {
   "cell_type": "markdown",
   "metadata": {},
   "source": [
    "#### pick & pick with role"
   ]
  },
  {
   "cell_type": "code",
   "execution_count": 8,
   "metadata": {},
   "outputs": [
    {
     "name": "stdout",
     "output_type": "stream",
     "text": [
      "{100: [18, 245, 48, 69, 150], 200: [202, 103, 113, 12, 157]}\n",
      "{100: {'BOTTOM_DUO_CARRY': 18, 'JUNGLE_NONE': 245, 'BOTTOM_DUO_SUPPORT': 48, 'MIDDLE_SOLO': 69, 'TOP_SOLO': 150}, 200: {'BOTTOM_DUO_CARRY': 202, 'MIDDLE_SOLO': 103, 'JUNGLE_NONE': 113, 'BOTTOM_DUO_SUPPORT': 12, 'TOP_SOLO': 157}}\n"
     ]
    }
   ],
   "source": [
    "picks = dict()\n",
    "pick_details = dict()\n",
    "pick_detail_teamId100 = dict()\n",
    "pick_detail_teamId200 = dict()\n",
    "teamId100 = []\n",
    "teamId200 = []\n",
    "for i in range(10):\n",
    "    if games[gameId]['participants'][i]['teamId'] == 100:\n",
    "        teamId100.append(games[gameId]['participants'][i]['championId'])\n",
    "        pick_detail_teamId100[games[gameId]['participants'][i]['timeline']['lane'] +'_' + \n",
    "                              games[gameId]['participants'][i]['timeline']['role']] = \\\n",
    "                                  games[gameId]['participants'][i]['championId']\n",
    "    else:\n",
    "        teamId200.append(games[gameId]['participants'][i]['championId'])\n",
    "        pick_detail_teamId200[games[gameId]['participants'][i]['timeline']['lane'] +'_' + \n",
    "                              games[gameId]['participants'][i]['timeline']['role']] = \\\n",
    "                                  games[gameId]['participants'][i]['championId']\n",
    "picks[100] = teamId100\n",
    "picks[200] = teamId200\n",
    "pick_details[100] = pick_detail_teamId100\n",
    "pick_details[200] = pick_detail_teamId200\n",
    "print(picks)\n",
    "print(pick_details)"
   ]
  },
  {
   "cell_type": "markdown",
   "metadata": {},
   "source": [
    "# Gather data"
   ]
  },
  {
   "cell_type": "markdown",
   "metadata": {},
   "source": [
    "mapId=11 이 소환사의 협곡임"
   ]
  },
  {
   "cell_type": "code",
   "execution_count": 9,
   "metadata": {},
   "outputs": [
    {
     "data": {
      "text/plain": [
       "5264"
      ]
     },
     "execution_count": 9,
     "metadata": {},
     "output_type": "execute_result"
    }
   ],
   "source": [
    "gather_data = dict()\n",
    "for gameId in list(games.keys()):\n",
    "    if games[gameId]['mapId']==11:\n",
    "        gather_features = dict()\n",
    "        # win\n",
    "        wins = dict()\n",
    "        for j in range(2):\n",
    "            wins[games[gameId]['teams'][j]['teamId']] = games[gameId]['teams'][j]['win']\n",
    "        # ban\n",
    "        bans = dict()\n",
    "        for j in range(2):\n",
    "            ban_champion_list =[]\n",
    "            for i in range(5):\n",
    "                # 벤을 하나도 안한 경기도 있을 수 있다.\n",
    "                try:\n",
    "                    ban_champion_list.append(\n",
    "                        games[gameId]['teams'][j]['bans'][i]['championId'])\n",
    "                except:\n",
    "                    continue\n",
    "            bans[games[gameId]['teams'][j]['teamId']] = ban_champion_list\n",
    "        # pick & pick&role\n",
    "        picks = dict()\n",
    "        pick_details = dict()\n",
    "        pick_detail_teamId100 = dict()\n",
    "        pick_detail_teamId200 = dict()\n",
    "        teamId100 = []\n",
    "        teamId200 = []\n",
    "        for i in range(10):\n",
    "            if games[gameId]['participants'][i]['teamId'] == 100:\n",
    "                teamId100.append(games[gameId]['participants'][i]['championId'])\n",
    "                pick_detail_teamId100[games[gameId]['participants'][i]['timeline']['lane'] +'_' + \n",
    "                                      games[gameId]['participants'][i]['timeline']['role']] = \\\n",
    "                                          games[gameId]['participants'][i]['championId']\n",
    "            else:\n",
    "                teamId200.append(games[gameId]['participants'][i]['championId'])\n",
    "                pick_detail_teamId200[games[gameId]['participants'][i]['timeline']['lane'] +'_' + \n",
    "                                      games[gameId]['participants'][i]['timeline']['role']] = \\\n",
    "                                          games[gameId]['participants'][i]['championId']\n",
    "        picks[100] = teamId100\n",
    "        picks[200] = teamId200\n",
    "        pick_details[100] = pick_detail_teamId100\n",
    "        pick_details[200] = pick_detail_teamId200\n",
    "        # gather data\n",
    "        gather_features['win'] = wins\n",
    "        gather_features['ban'] = bans\n",
    "        gather_features['pick'] = picks\n",
    "        gather_features['pick_role'] = pick_details\n",
    "        gather_data[gameId] = gather_features\n",
    "len(gather_data)"
   ]
  },
  {
   "cell_type": "code",
   "execution_count": 10,
   "metadata": {},
   "outputs": [
    {
     "data": {
      "text/plain": [
       "{'ban': {100: [38, 81, 60, 497, 268], 200: [126, 12, 421, -1, 114]},\n",
       " 'pick': {100: [96, 113, 90, 63, 24], 200: [59, 110, 80, 134, 412]},\n",
       " 'pick_role': {100: {'BOTTOM_DUO_CARRY': 96,\n",
       "   'BOTTOM_DUO_SUPPORT': 63,\n",
       "   'JUNGLE_NONE': 113,\n",
       "   'MIDDLE_SOLO': 90,\n",
       "   'TOP_SOLO': 24},\n",
       "  200: {'BOTTOM_DUO_CARRY': 110,\n",
       "   'BOTTOM_DUO_SUPPORT': 412,\n",
       "   'JUNGLE_NONE': 59,\n",
       "   'MIDDLE_SOLO': 134,\n",
       "   'TOP_SOLO': 80}},\n",
       " 'win': {100: 'Win', 200: 'Fail'}}"
      ]
     },
     "execution_count": 10,
     "metadata": {},
     "output_type": "execute_result"
    }
   ],
   "source": [
    "gather_data[gameId]"
   ]
  },
  {
   "cell_type": "code",
   "execution_count": 12,
   "metadata": {},
   "outputs": [],
   "source": [
    "with open('analysis_dataset.json', 'w') as js:\n",
    "     json.dump(gather_data, js)"
   ]
  }
 ],
 "metadata": {
  "kernelspec": {
   "display_name": "Python 3",
   "language": "python",
   "name": "python3"
  },
  "language_info": {
   "codemirror_mode": {
    "name": "ipython",
    "version": 3
   },
   "file_extension": ".py",
   "mimetype": "text/x-python",
   "name": "python",
   "nbconvert_exporter": "python",
   "pygments_lexer": "ipython3",
   "version": "3.6.2"
  }
 },
 "nbformat": 4,
 "nbformat_minor": 2
}
